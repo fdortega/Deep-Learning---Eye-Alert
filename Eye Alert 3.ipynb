{
 "cells": [
  {
   "cell_type": "code",
   "execution_count": 1,
   "metadata": {},
   "outputs": [],
   "source": [
    "# Imports\n",
    "import cv2\n",
    "import os\n",
    "from keras.models import load_model\n",
    "import numpy as np\n",
    "import time\n",
    "from playsound import playsound"
   ]
  },
  {
   "cell_type": "code",
   "execution_count": 2,
   "metadata": {},
   "outputs": [],
   "source": [
    "# Load and assign object detection algorithm files: face and eyepairs\n",
    "face_recog = cv2.CascadeClassifier('haar cascade files\\haarcascade_frontalface_alt.xml')\n",
    "eye_pair = cv2.CascadeClassifier('haar cascade files\\parojosG.xml')\n",
    "\n",
    "# Assign labels for eye position\n",
    "Position = ['Closed', 'Open']\n",
    "\n",
    "# Assign variables\n",
    "model = load_model('models/cnn3cat2.h5')\n",
    "path = 'C:\\\\Users\\\\felix\\\\Desktop\\\\Final Project - Eye Alert\\\\Incidents'\n",
    "cap = cv2.VideoCapture(0)\n",
    "font = cv2.FONT_HERSHEY_COMPLEX_SMALL\n",
    "color = (255, 255, 255)\n",
    "color_warn = (0, 128, 255)\n",
    "color_alert = (0, 0, 255)\n",
    "count = 0\n",
    "timer = 0\n",
    "pred = []"
   ]
  },
  {
   "cell_type": "code",
   "execution_count": 3,
   "metadata": {},
   "outputs": [
    {
     "name": "stdout",
     "output_type": "stream",
     "text": [
      "WARNING:tensorflow:From <ipython-input-3-c17de55ba2bc>:21: Sequential.predict_classes (from tensorflow.python.keras.engine.sequential) is deprecated and will be removed after 2021-01-01.\n",
      "Instructions for updating:\n",
      "Please use instead:* `np.argmax(model.predict(x), axis=-1)`,   if your model does multi-class classification   (e.g. if it uses a `softmax` last-layer activation).* `(model.predict(x) > 0.5).astype(\"int32\")`,   if your model does binary classification   (e.g. if it uses a `sigmoid` last-layer activation).\n"
     ]
    }
   ],
   "source": [
    "# While loop to run during video capture\n",
    "while(True):\n",
    "    ret, frame = cap.read()\n",
    "    height,width = frame.shape[:2]\n",
    "    gray = cv2.cvtColor(frame, cv2.COLOR_BGR2GRAY)\n",
    "    faces = face_recog.detectMultiScale(gray, minNeighbors = 5, scaleFactor = 1.1, minSize = (25, 25))\n",
    "    eyes = eye_pair.detectMultiScale(gray)\n",
    "    for (x, y, w, h) in faces:\n",
    "        cv2.rectangle(frame, (x, y) , (x + w, y + h) , (0, 255, 0) , 2)\n",
    "    for (x, y, w, h) in eyes:\n",
    "        roi_color = frame[y : y + h, x : x + w]\n",
    "        eyepr = roi_color[y : y + h, x : x + w]\n",
    "        cv2.rectangle(roi_color, (x, y),(x + w, y + h), (255, 0, 0), 2)\n",
    "        count = count + 1\n",
    "        eyepr = cv2.cvtColor(roi_color, cv2.COLOR_BGR2GRAY)\n",
    "        eyepr = cv2.resize(eyepr, (24, 24))\n",
    "        eyepr= eyepr / 255\n",
    "        eyepr = eyepr.reshape(24, 24, -1)\n",
    "        eyepr = np.expand_dims(eyepr, axis = 0)\n",
    "        # Predict position of eyes\n",
    "        pred = model.predict_classes(eyepr)\n",
    "        if(pred[0] == 1):\n",
    "            Position = 'Open'\n",
    "        if(pred[0] == 0):\n",
    "            Position = 'Closed'\n",
    "        break\n",
    "    # Set timer rules\n",
    "    if(pred[0] == 0):\n",
    "        timer = timer + 1\n",
    "        cv2.putText(frame, \"Eyes Closed\", (10, height - 20), font, 1, color_alert, 1, cv2.LINE_AA)\n",
    "    else:\n",
    "        timer = timer - 1\n",
    "        cv2.putText(frame, \"Eyes Open\", (10, height - 20), font, 1, color, 1, cv2.LINE_AA)\n",
    "    if(timer < 0):\n",
    "        timer = 0\n",
    "    cv2.putText(frame, 'Net Total:' + str(timer), (460, height - 20), font, 1, color, 1, cv2.LINE_AA)\n",
    "    # Set timer upper boundary, alert sound, and capture image of incident\n",
    "    if(13 > timer > 9):\n",
    "        cv2.rectangle(frame, (0, 0), (width, height), color_warn, thickness = 8)\n",
    "    if(timer >= 13):\n",
    "        cv2.rectangle(frame, (0, 0), (width, height), color_alert, thickness = 18)\n",
    "    if(timer > 15):\n",
    "        cv2.putText(frame, \"Pull Over\", (10, height - 42), font, 1, color_alert, 1, cv2.LINE_AA)\n",
    "    if(timer > 17):\n",
    "        cv2.imwrite(os.path.join(path, 'Incident Alert.jpg'), frame)\n",
    "        playsound(r'C:\\Users\\felix\\Desktop\\Final Project - Eye Alert\\buzzer.WAV')\n",
    "    cv2.imshow('frame', frame)\n",
    "    # Press q to escape the while loop\n",
    "    if cv2.waitKey(1) & 0xFF == ord('q'):\n",
    "        break\n",
    "# Close capturing\n",
    "cap.release()\n",
    "cv2.destroyAllWindows()"
   ]
  }
 ],
 "metadata": {
  "kernelspec": {
   "display_name": "Python 3",
   "language": "python",
   "name": "python3"
  },
  "language_info": {
   "codemirror_mode": {
    "name": "ipython",
    "version": 3
   },
   "file_extension": ".py",
   "mimetype": "text/x-python",
   "name": "python",
   "nbconvert_exporter": "python",
   "pygments_lexer": "ipython3",
   "version": "3.7.6"
  }
 },
 "nbformat": 4,
 "nbformat_minor": 4
}
