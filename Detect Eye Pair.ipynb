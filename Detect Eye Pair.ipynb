{
 "cells": [
  {
   "cell_type": "code",
   "execution_count": 1,
   "metadata": {},
   "outputs": [],
   "source": [
    "# Imports\n",
    "import numpy as np\n",
    "import cv2\n",
    "\n",
    "# Load and assign object detection algorithm files: face and eyepairs\n",
    "face_cascade = cv2.CascadeClassifier('haar cascade files\\haarcascade_frontalface_alt.xml')\n",
    "eyes_cascade = cv2.CascadeClassifier('haar cascade files\\parojosG.xml')\n",
    "\n",
    "# Start video capture as source for image frames\n",
    "cap = cv2.VideoCapture(0)\n",
    "\n",
    "# Start a counter for file naming\n",
    "count=1\n",
    "\n",
    "# Create loop to run while camera is operating\n",
    "while True:\n",
    "    ret, img = cap.read()\n",
    "    gray = cv2.cvtColor(img, cv2.COLOR_BGR2GRAY)\n",
    "    # face detection\n",
    "    faces = face_cascade.detectMultiScale(gray, minNeighbors=5, scaleFactor=1.1, minSize=(25,25))\n",
    "    for (x, y, w, h) in faces:\n",
    "        cv2.rectangle(img,(x, y),(x + w, y + h),(0, 255, 0), 2)\n",
    "        roi_gray = gray[y : y + h, x : x + w]\n",
    "        roi_color = img[y : y + h, x : x + w]\n",
    "        # Build cropped frame for eye pairs and save them as .jpg files\n",
    "        eyes = eyes_cascade.detectMultiScale(roi_gray)\n",
    "        for (ex, ey, ew, eh) in eyes:\n",
    "            crop_img = roi_color[ey: ey + eh, ex: ex + ew]\n",
    "            cv2.rectangle(roi_color, (ex, ey), (ex + ew,ey + eh),(255, 0, 0), 2)\n",
    "            count=count+1\n",
    "            cv2.imwrite(\"frame%d.jpg\" % count, crop_img)\n",
    "    cv2.imshow('img',img)\n",
    "    \n",
    "    # Break with escape key\n",
    "    k = cv2.waitKey(30) & 0xff\n",
    "    if k == 27:\n",
    "        break\n",
    "        \n",
    "# Close camera\n",
    "cap.release()\n",
    "cv2.destroyAllWindows()"
   ]
  }
 ],
 "metadata": {
  "kernelspec": {
   "display_name": "Python 3",
   "language": "python",
   "name": "python3"
  },
  "language_info": {
   "codemirror_mode": {
    "name": "ipython",
    "version": 3
   },
   "file_extension": ".py",
   "mimetype": "text/x-python",
   "name": "python",
   "nbconvert_exporter": "python",
   "pygments_lexer": "ipython3",
   "version": "3.7.6"
  }
 },
 "nbformat": 4,
 "nbformat_minor": 4
}
